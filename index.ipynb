{
 "cells": [
  {
   "cell_type": "markdown",
   "id": "d76f861c",
   "metadata": {},
   "source": [
    "# Visualizations in R\n",
    "\n",
    "Useful links\n",
    "- [R Graph Gallery](https://www.r-graph-gallery.com)\n",
    "- Libraries\n",
    "    - [ggplot2](https://ggplot2.tidyverse.org)\n",
    "    - [Plotly R](https://plotly.com/r/)\n"
   ]
  },
  {
   "cell_type": "markdown",
   "id": "4356c468",
   "metadata": {},
   "source": [
    "## Example data set\n",
    "We'll be using a regulartory dataset that's made available to the public by the Home Mortgage Disclosure Act (HMDA). Congress enacted this legislation in 1975 in response to concerns about racial discrimination in mortgage financing. Each year thousands of mortgage financiers report almost every mortgage application they receive and the outcome of the loan (e.g., whether it was approved or rejected) along with some limited characteristics of the borrower(s) (e.g., race, ethnicity and gender) and some characteristics of the loan (e.g., interest rate, loan amount and length of the mortgage).\n",
    "\n",
    "To learn more about the dataset, visit the Consumer Financial Protection Bureau (CFPB) [website](https://www.consumerfinance.gov/data-research/hmda/historic-data/), which hosts the public version for the HMDA data."
   ]
  },
  {
   "cell_type": "markdown",
   "id": "429908e4",
   "metadata": {},
   "source": [
    "## Loading libraries\n",
    "We'll load some libraries:\n",
    "- **ggplot2**: Helpful library for making plots. Probably the most popular choice in R.\n",
    "- **dplyr**: Helpful functions to manipulate data.\n",
    "- **haven**: For loading `.dta` directly into R.\n",
    "- **tidyr**: Manipulate data the tidyverse way.\n",
    "- **labelled**: Manage labels from Stata datasets.\n",
    "- **urbnmapr**: Simple choropleth maps."
   ]
  },
  {
   "cell_type": "code",
   "execution_count": null,
   "id": "6d6e2f6f",
   "metadata": {},
   "outputs": [],
   "source": [
    "library(ggplot2)\n",
    "library(dplyr)    \n",
    "library(haven)    \n",
    "library(tidyr)    \n",
    "library(labelled) \n",
    "library(urbnmapr)"
   ]
  },
  {
   "cell_type": "markdown",
   "id": "0e324fa2",
   "metadata": {},
   "source": [
    "## Loading the data\n",
    "I've created a subset of the public dataset that has been compressed. The original dataset is 8.39 GB while this subset is just ~220 MB."
   ]
  },
  {
   "cell_type": "code",
   "execution_count": null,
   "id": "6b894892",
   "metadata": {},
   "outputs": [],
   "source": [
    "# Define a variable to store this long URL that links to the data on Dropbox.\n",
    "HMDA_URL <- \"https://www.dropbox.com/s/8atgvmsq5ulssi4/hmda2019_extract.dta?dl=1\"\n",
    "\n",
    "# Load the entire dataset into a data.frame (technically, tbl_df)\n",
    "hmda <- read_dta(HMDA_URL)\n",
    "\n",
    "# Let's take a look at the first few rows\n",
    "head(hmda)"
   ]
  },
  {
   "cell_type": "markdown",
   "id": "d8236c40",
   "metadata": {},
   "source": [
    "## Scatter plot\n",
    "Let's make a graph showing the disparity in interest rates between Black non-Latino and White Non-Latino borrowers by state.\n",
    "\n",
    "In order to plot a scatter plot, we need two columns: one for the *x*-coordinate and one for the *y*-coordinate. Let's break down the steps we'll need to undertake:\n",
    "\n",
    "- Restrict the sample to non-Latino Black and White borrowers.\n",
    "- Calculate the mean interest rate spread for each group in each state.\n",
    "- Reshape the data to have separate columns for each group."
   ]
  },
  {
   "cell_type": "code",
   "execution_count": null,
   "id": "a6705dba",
   "metadata": {},
   "outputs": [],
   "source": [
    "#----------------------------------------#\n",
    "# Data Prep: Disparity in interest rates #\n",
    "#----------------------------------------#\n",
    "\n",
    "# Restrict sample, collapse data and then reshape\n",
    "rate_spread_disparity_black_white <- hmda %>%\n",
    "filter(race %in% c(4, 9) & ethnicity == 5) %>%\n",
    "group_by(state_code, race) %>%\n",
    "summarize(\n",
    "    mean_spread = mean(rate_spread, na.rm = TRUE),\n",
    "    count_spread = sum(sum(!is.na(rate_spread)))\n",
    ") %>%\n",
    "ungroup() %>%\n",
    "pivot_wider(\n",
    "    names_from = race,\n",
    "    values_from = c(mean_spread, count_spread)\n",
    ")\n",
    "\n",
    "# Print the first few rows\n",
    "head(rate_spread_disparity_black_white)"
   ]
  },
  {
   "cell_type": "markdown",
   "id": "67a55488-e85b-4409-80b1-c622f0f5bd65",
   "metadata": {},
   "source": [
    "Now let's make our first scatter plot. It's a starting point that we'll refine in further steps."
   ]
  },
  {
   "cell_type": "code",
   "execution_count": null,
   "id": "d0c74b8d",
   "metadata": {},
   "outputs": [],
   "source": [
    "#-----------------------------------#\n",
    "# Plot: Disparity in interest rates #\n",
    "#-----------------------------------#\n",
    "\n",
    "plt_disparity <- rate_spread_disparity_black_white %>%\n",
    "  ggplot(aes(y = mean_spread_4, x = mean_spread_9)) +\n",
    "  geom_point()\n",
    "\n",
    "plt_disparity"
   ]
  },
  {
   "cell_type": "markdown",
   "id": "9f75b998-ed9d-4e44-bbc0-4e5f7fdc723a",
   "metadata": {},
   "source": [
    "Seems like we have a outlier for one of the states. Let's figure out what state it is."
   ]
  },
  {
   "cell_type": "code",
   "execution_count": null,
   "id": "9b5b82cb",
   "metadata": {},
   "outputs": [],
   "source": [
    "# Plot with labels\n",
    "\n",
    "plt_disparity <- rate_spread_disparity_black_white %>%\n",
    "  ggplot(aes(y = mean_spread_4, x = mean_spread_9)) +\n",
    "  geom_text(aes(label = state_code), hjust = 0.5, vjust = 0.5)\n",
    "\n",
    "plt_disparity"
   ]
  },
  {
   "cell_type": "markdown",
   "id": "4711fe0a-c3d9-40f1-bc96-9f93481e75cf",
   "metadata": {},
   "source": [
    "It's West Virgina! But what's going on? Let's take a look at the number of observations for West Virigina."
   ]
  },
  {
   "cell_type": "code",
   "execution_count": null,
   "id": "8f58d5a0",
   "metadata": {},
   "outputs": [],
   "source": [
    "# Print 15 smallest counts of Black borrowers\n",
    "\n",
    "rate_spread_disparity_black_white %>%\n",
    "  arrange(count_spread_4) %>%\n",
    "  head(n = 15)"
   ]
  },
  {
   "cell_type": "code",
   "execution_count": null,
   "id": "62a6dcbe-0e77-4bb7-a68a-f571552828bd",
   "metadata": {},
   "outputs": [],
   "source": [
    "# Print 15 smallest counts of White borrowers\n",
    "\n",
    "rate_spread_disparity_black_white %>%\n",
    "  arrange(count_spread_9) %>%\n",
    "  head(n = 15)"
   ]
  },
  {
   "cell_type": "markdown",
   "id": "e35e48e9-55af-4de6-b327-6a45143ad2fc",
   "metadata": {},
   "source": [
    "There are some really small counts for some of the states. There are multiple ways to move forward. Maybe we should be using medians? Maybe there are some loan types with extreme values that we don't want to consider? For now, let's just restrict our plot to states with at least a 150 borrowers in each group."
   ]
  },
  {
   "cell_type": "code",
   "execution_count": null,
   "id": "24f3215a-059b-4a4f-8bd5-c58eb8042c0f",
   "metadata": {},
   "outputs": [],
   "source": [
    "# Plot with labels states that have at least 150 borrowers\n",
    "\n",
    "plt_disparity <- rate_spread_disparity_black_white %>%\n",
    "  filter(count_spread_4 > 150 & count_spread_9 > 150) %>%\n",
    "  ggplot(aes(y = mean_spread_4, x = mean_spread_9)) +\n",
    "  geom_text(aes(label = state_code), hjust = 0.5, vjust = 0.5)\n",
    "\n",
    "plt_disparity"
   ]
  },
  {
   "cell_type": "markdown",
   "id": "1128afb4-6cd8-4947-8754-fb81362fe36f",
   "metadata": {},
   "source": [
    "We might want to emphasis data points with larger popluations. Let's allow the points to vary about the size of the total number of Black and White borrowers."
   ]
  },
  {
   "cell_type": "code",
   "execution_count": null,
   "id": "9c7eb061-678e-4790-b210-8120fb11bdad",
   "metadata": {},
   "outputs": [],
   "source": [
    "# Plot states with points varying with count size\n",
    "\n",
    "plt_disparity <- rate_spread_disparity_black_white %>%\n",
    "  filter(count_spread_4 > 150 & count_spread_9 > 150) %>%\n",
    "  mutate(count_spread = count_spread_4 + count_spread_9) %>%\n",
    "  ggplot(aes(y = mean_spread_4, x = mean_spread_9)) +\n",
    "  geom_point(aes(size = count_spread))\n",
    "\n",
    "plt_disparity"
   ]
  },
  {
   "cell_type": "markdown",
   "id": "9ca3758c-4d64-41af-83a7-b86b82b7305d",
   "metadata": {},
   "source": [
    "Let's put some final touches on this graph.\n",
    "\n",
    "- Filter the state \"NA.\"\n",
    "- Use transparency in the points to deal with overlapping points.\n",
    "- Remove legend.\n",
    "- Reduce ink-to-data ratio.\n",
    "- Make the *y* and *x* axis the same scale.\n",
    "- Add a diagonal line.\n",
    "- Add titles, labels, footnote and annotations."
   ]
  },
  {
   "cell_type": "code",
   "execution_count": null,
   "id": "eb9797b3-4b83-4df8-91fe-f1706bc6b131",
   "metadata": {},
   "outputs": [],
   "source": [
    "# Add additional details for a more publication-ready plot\n",
    "\n",
    "plt_disparity <- rate_spread_disparity_black_white %>%\n",
    "  filter(count_spread_4 > 150 & count_spread_9 > 150) %>%\n",
    "  filter(state_code != \"NA\") %>%\n",
    "  mutate(count_spread = count_spread_4 + count_spread_9) %>%\n",
    "  mutate(outlier = ifelse(mean_spread_4 > 3, state_code, \"\")) %>%\n",
    "  ggplot(aes(y = mean_spread_4, x = mean_spread_9)) +\n",
    "  geom_point(aes(size = count_spread), alpha = 0.5) +\n",
    "  geom_text(aes(label = outlier), vjust = -1, hjust = 0.5) +\n",
    "  geom_abline() +\n",
    "  coord_fixed() +\n",
    "  labs(\n",
    "    title = \"Rate spread for new mortgage borrowers, by state (2019)\",\n",
    "    caption = \"Data Source: HMDA\",\n",
    "    x = \"White borrowers\",\n",
    "    y = \"Black borrowers\"\n",
    "  ) +\n",
    "  xlim(0, 4) +\n",
    "  ylim(0, 4) +\n",
    "  annotate(\n",
    "      geom = \"text\",\n",
    "      x = 0.75,\n",
    "      y = 3.9,\n",
    "      label = \"Black borrowers have higher spread\",\n",
    "  ) +\n",
    "  annotate(\n",
    "      geom = \"text\",\n",
    "      x = 3.25,\n",
    "      y = 0.1,\n",
    "      label = \"White borrowers have lower spread\"\n",
    "  ) +\n",
    "  annotate(\n",
    "      geom = \"text\",\n",
    "      x = 3.4,\n",
    "      y = 3.5,\n",
    "      label = \"Parity in spread between borrowers\",\n",
    "      angle = 45\n",
    "  ) +\n",
    "  theme_minimal() +\n",
    "  theme(legend.position = \"none\")\n",
    "\n",
    "plt_disparity\n"
   ]
  },
  {
   "cell_type": "markdown",
   "id": "942727aa-3191-453a-985f-da7b57151044",
   "metadata": {},
   "source": [
    "Still lots more that could be done (e.g., change font to match report/presentation and/or increase font size for readability). More importantly, you'd want to spend more time digging into the details and focusing on understanding the narrative you're trying to tell with the graph. But this is a good start!"
   ]
  },
  {
   "cell_type": "markdown",
   "id": "dfb28763-aa60-4288-8a41-6d88b81ec2a3",
   "metadata": {},
   "source": [
    "## Bar chart"
   ]
  },
  {
   "cell_type": "markdown",
   "id": "13d694a0",
   "metadata": {},
   "source": [
    "For this next exercise, we'll be plotting a bar graph. Let's investigate the disparity in loan approval rates between manufactured homes and site-built homes. In particular, the HMDA data provides information on the whether the covered loan or application is, or would have been in the case of applications, secured by a manufactured home and land, or by a manufactured home and not land. The variable is called in `mh_land_prop` and has the following values:\n",
    "\n",
    "- 1 = Manufactured home and land\n",
    "- 2 = Manufactured home and not land\n",
    "- 1111 = Exempt\n",
    "\n",
    "Let's take a quick look at this column by calculating a frequency table."
   ]
  },
  {
   "cell_type": "code",
   "execution_count": null,
   "id": "38bf73ee-d2f5-4b51-b6db-36637eee85f6",
   "metadata": {},
   "outputs": [],
   "source": [
    "# Tabulate frequency of loan type\n",
    "table(hmda$mh_land_prop)"
   ]
  },
  {
   "cell_type": "markdown",
   "id": "4c11b65f",
   "metadata": {},
   "source": [
    "But what about site-built homes? Note that there is also another variable called `dwelling_category` with the following values:\n",
    "\n",
    "- 1 = Manufactured\n",
    "- 2 = Site-built"
   ]
  },
  {
   "cell_type": "code",
   "execution_count": null,
   "id": "408a8606-4247-43ee-a257-cb0cc548a022",
   "metadata": {},
   "outputs": [],
   "source": [
    "# Tabulate frequency of loan type versus dwelling category (including NA)\n",
    "table(hmda$mh_land_prop, hmda$dwelling_category, useNA = \"always\")"
   ]
  },
  {
   "cell_type": "markdown",
   "id": "329ce2c6",
   "metadata": {},
   "source": [
    "Now let's take a quick look at the approval variable, which is `approved`."
   ]
  },
  {
   "cell_type": "code",
   "execution_count": null,
   "id": "d7d27e26",
   "metadata": {},
   "outputs": [],
   "source": [
    "# Tabulate frequency of approvals (including NA)\n",
    "table(hmda$approved, useNA = \"always\")"
   ]
  },
  {
   "cell_type": "markdown",
   "id": "4bd0ad91",
   "metadata": {},
   "source": [
    "So, we have a variable that's coded as zero and one. These values correspond to the following outcomes.\n",
    "\n",
    "- 0 = Not approved\n",
    "- 1 = Approved\n",
    "\n",
    "It's helpful that the approval variable has already been coded as a binary outcome and has no missing values. We'll see why in the next step. Let's plot a bar chart!"
   ]
  },
  {
   "cell_type": "code",
   "execution_count": null,
   "id": "1f88459b",
   "metadata": {},
   "outputs": [],
   "source": [
    "#----------------------------------------#\n",
    "# Data Prep: Disparity in approval rates #\n",
    "#----------------------------------------#\n",
    "\n",
    "approval_disparity_mh_sb <- hmda %>%\n",
    "  mutate(\n",
    "    mh_land_prop_char = recode(\n",
    "      mh_land_prop,\n",
    "      `1` = \"Manufactured home and land\",\n",
    "      `2` = \"Manufactured home and not land\",\n",
    "      `1111` = \"Exempt\"\n",
    "    )\n",
    "  ) %>%\n",
    "  replace_na(list(mh_land_prop_char = \"Site-built\")) %>%\n",
    "  group_by(mh_land_prop_char) %>%\n",
    "  summarise(frac_approved = mean(approved)) %>%\n",
    "  ungroup()\n",
    "\n",
    "approval_disparity_mh_sb"
   ]
  },
  {
   "cell_type": "code",
   "execution_count": null,
   "id": "22c44fa9",
   "metadata": {},
   "outputs": [],
   "source": [
    "#-----------------------------------#\n",
    "# Plot: Disparity in approval rates #\n",
    "#-----------------------------------#\n",
    "\n",
    "approval_disparity_mh_sb %>%\n",
    "ggplot(aes(x = mh_land_prop_char, y = frac_approved)) +\n",
    "geom_col()"
   ]
  },
  {
   "cell_type": "markdown",
   "id": "e370fdf1",
   "metadata": {},
   "source": [
    "Let's do some clean-up!\n",
    "\n",
    "- Make it a horizontal bar graph.\n",
    "- Highlight the categories we want to emphasize.\n",
    "- Reorder by the bar height.\n",
    "- Use percent instead of fractions.\n",
    "- Add labels.\n",
    "- Reduce the ink-to-data ratio."
   ]
  },
  {
   "cell_type": "code",
   "execution_count": null,
   "id": "95b48b2d",
   "metadata": {},
   "outputs": [],
   "source": [
    "approval_disparity_mh_sb %>%\n",
    "filter(mh_land_prop_char != \"Exempt\") %>%\n",
    "mutate(\n",
    "    bar_color = (mh_land_prop_char == \"Site-built\")\n",
    ") %>%\n",
    "ggplot(\n",
    "    aes(\n",
    "        x = frac_approved,\n",
    "        y = reorder(mh_land_prop_char, -frac_approved),\n",
    "        fill = bar_color\n",
    "    )\n",
    ") +\n",
    "geom_col() +\n",
    "scale_x_continuous(labels = scales::percent) +\n",
    "labs(\n",
    "    title = \"Disparity in approval rates, by type of loan (2019)\",\n",
    "    caption = \"Data Source: HMDA\",\n",
    "    x = \"Percent of loans approved\",\n",
    "    y = \"\"\n",
    ") +\n",
    "scale_fill_manual(\n",
    "    values = c(\"#1295D8\", \"darkgray\"),\n",
    "    guide = FALSE\n",
    ") +\n",
    "theme_minimal()"
   ]
  },
  {
   "cell_type": "markdown",
   "id": "da8e751f-c1f3-484a-aba2-9af3659e54c5",
   "metadata": {},
   "source": [
    "## Maps: Choropleth\n",
    "\n",
    "Another common graph you'll see is a choropleth. There are advantages and disadvantages to using this type of graph. You may find it helpful to think of [alternative ways](https://www.vox.com/2016/6/2/11828628/election-maps-hard) of plotting your data instead of using a map. Nonetheless, choropleths are a popular way to visualize your data. There are many ways to visualize a choropleth in R. We'll start with the easy situation first, which is to plot data for a common geographic level (e.g., county).\n",
    "\n",
    "Let's first prep our data."
   ]
  },
  {
   "cell_type": "code",
   "execution_count": null,
   "id": "085806a1-9cd8-4a1b-bf62-b504f59a6ae2",
   "metadata": {},
   "outputs": [],
   "source": [
    "mh_by_ca_fips <- hmda %>%\n",
    "  filter(state_code == \"CA\") %>%\n",
    "  mutate(\n",
    "    county_fips = substr(census_tract, 1, 5),\n",
    "    mh = (dwelling_category == 1)\n",
    "  ) %>%\n",
    "  group_by(county_fips) %>%\n",
    "  summarize(\n",
    "      perc_mh = 100 * mean(mh),\n",
    "      count_mh = sum(sum(!is.na(mh)))\n",
    ")\n"
   ]
  },
  {
   "cell_type": "markdown",
   "id": "552043d9",
   "metadata": {},
   "source": [
    "Now let's prep our geographic data."
   ]
  },
  {
   "cell_type": "code",
   "execution_count": null,
   "id": "9144bc4a-8fbc-4b55-9f51-1871b683913c",
   "metadata": {},
   "outputs": [],
   "source": [
    "mh_by_ca_fips_sf <- get_urbn_map(\"counties\", sf = TRUE) %>%\n",
    "  filter(state_name == \"California\") %>%\n",
    "  left_join(\n",
    "    mh_by_ca_fips,\n",
    "    by = \"county_fips\"\n",
    "  )\n"
   ]
  },
  {
   "cell_type": "markdown",
   "id": "74fd0e0b",
   "metadata": {},
   "source": [
    "Finally, our map!"
   ]
  },
  {
   "cell_type": "code",
   "execution_count": null,
   "id": "6e1dd362",
   "metadata": {},
   "outputs": [],
   "source": [
    "mh_by_ca_fips_sf %>%\n",
    "  ggplot(aes()) +\n",
    "  geom_sf(aes(fill = perc_mh)) +\n",
    "  coord_sf(datum = NA) +\n",
    "  guides(fill = guide_legend(title = \"% of all applications\")) +\n",
    "  labs(\n",
    "    title = \"Manufactured home loan applications as a percent of total mortgage applications\",\n",
    "    caption = \"Data Source: HMDA (2019)\"\n",
    "  ) +\n",
    "  theme(panel.background = element_blank())"
   ]
  }
 ],
 "metadata": {
  "kernelspec": {
   "display_name": "R",
   "language": "R",
   "name": "ir"
  },
  "language_info": {
   "codemirror_mode": "r",
   "file_extension": ".r",
   "mimetype": "text/x-r-source",
   "name": "R",
   "pygments_lexer": "r",
   "version": "4.1.0"
  }
 },
 "nbformat": 4,
 "nbformat_minor": 5
}
